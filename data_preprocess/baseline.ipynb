{
 "cells": [
  {
   "cell_type": "markdown",
   "metadata": {},
   "source": [
    "This file is provided to preprocess data for constructing input data for baselines.\n",
    "\n",
    "Note that the file should run in SLBench environment."
   ]
  },
  {
   "cell_type": "code",
   "execution_count": 1,
   "metadata": {},
   "outputs": [],
   "source": [
    "from utils import *"
   ]
  },
  {
   "cell_type": "markdown",
   "metadata": {},
   "source": [
    "The following cell shows the source of gid2uid mapping. You don't need to run it."
   ]
  },
  {
   "cell_type": "code",
   "execution_count": 2,
   "metadata": {},
   "outputs": [],
   "source": [
    "df_9845 = pd.read_csv(\"./meta_table_9845.csv\")\n",
    "gid2uid = dict(zip(df_9845['entrez_id'].astype(int), df_9845['unified_id'].astype(int)))  # NCBI gene id (int) -> SLbenchmark's id (int)\n",
    "with open('gid2uid.pkl', 'wb') as f:\n",
    "    pickle.dump(gid2uid, f)"
   ]
  },
  {
   "cell_type": "markdown",
   "metadata": {},
   "source": [
    "**Prepare data for baselines**"
   ]
  },
  {
   "cell_type": "code",
   "execution_count": 2,
   "metadata": {},
   "outputs": [],
   "source": [
    "slkb_root = f'{root}/SLKB'"
   ]
  },
  {
   "cell_type": "code",
   "execution_count": 3,
   "metadata": {},
   "outputs": [
    {
     "name": "stderr",
     "output_type": "stream",
     "text": [
      "/home/qingyuyang/anaconda3/envs/SLBench/lib/python3.7/site-packages/numpy/lib/npyio.py:528: VisibleDeprecationWarning: Creating an ndarray from ragged nested sequences (which is a list-or-tuple of lists-or-tuples-or ndarrays with different lengths or shapes) is deprecated. If you meant to do this, you must specify 'dtype=object' when creating the ndarray.\n",
      "  arr = np.asanyarray(arr)\n"
     ]
    }
   ],
   "source": [
    "data_root = f'{slkb_root}/specific'\n",
    "save_root = f'{slkb_root}/slbench/specific'\n",
    "os.makedirs(save_root, exist_ok=True)\n",
    "\n",
    "for cl in os.listdir(data_root):\n",
    "    if cl.endswith('.csv'):\n",
    "        continue\n",
    "\n",
    "    for scene in os.listdir(os.path.join(data_root, cl)):\n",
    "        sl_path = os.path.join(data_root, cl, scene)\n",
    "        if not os.path.exists(sl_path) or not len(os.listdir(sl_path)):\n",
    "            break\n",
    "\n",
    "        save_path = os.path.join(save_root, cl, scene)\n",
    "        os.makedirs(save_path, exist_ok=True)\n",
    "\n",
    "        gid2uid_all(sl_path, save_path)\n",
    "        construct_data_npy(save_path, save_path)\n",
    "        construct_data_ptgnn(save_path, save_path)"
   ]
  },
  {
   "cell_type": "code",
   "execution_count": 3,
   "metadata": {},
   "outputs": [],
   "source": [
    "data_root = f'{slkb_root}/specific'\n",
    "save_root = f'{slkb_root}/slbench/specific'\n",
    "\n",
    "cell_line = 'A549'\n",
    "scenes = ['C1', 'C2', 'Tail']\n",
    "cuts = ['1:1', '1:5']\n",
    "\n",
    "for scene, cut in list(itertools.product(scenes, cuts)):\n",
    "    sl_path = f'{data_root}/{cell_line}/{scene}/{cut}'\n",
    "    save_path = f'{save_root}/{cell_line}/{scene}/{cut}'\n",
    "    os.makedirs(save_path, exist_ok=True)\n",
    "\n",
    "    gid2uid_all(sl_path, save_path, include_test=False)"
   ]
  },
  {
   "cell_type": "code",
   "execution_count": 5,
   "metadata": {},
   "outputs": [
    {
     "name": "stderr",
     "output_type": "stream",
     "text": [
      "/home/qingyuyang/anaconda3/envs/SLBench/lib/python3.7/site-packages/numpy/lib/npyio.py:528: VisibleDeprecationWarning: Creating an ndarray from ragged nested sequences (which is a list-or-tuple of lists-or-tuples-or ndarrays with different lengths or shapes) is deprecated. If you meant to do this, you must specify 'dtype=object' when creating the ndarray.\n",
      "  arr = np.asanyarray(arr)\n"
     ]
    }
   ],
   "source": [
    "for scene, cut in list(itertools.product(scenes, cuts)):\n",
    "    no_cut_path = f'{save_root}/{cell_line}/{scene}'\n",
    "    cut_path = f'{no_cut_path}/{cut}'\n",
    "\n",
    "    for fold in range(5):\n",
    "        test_df = pd.read_csv(f'{no_cut_path}/sl_test_{fold}.csv')\n",
    "        test_df.to_csv(f'{cut_path}/sl_test_{fold}.csv', index=False)\n",
    "\n",
    "    construct_data_npy(cut_path, cut_path)\n",
    "    construct_data_ptgnn(cut_path, cut_path)"
   ]
  },
  {
   "cell_type": "code",
   "execution_count": null,
   "metadata": {},
   "outputs": [],
   "source": [
    "data_root = f'{slkb_root}/transfer'\n",
    "save_root = f'{slkb_root}/slbench/transfer'\n",
    "os.makedirs(save_root, exist_ok=True)\n",
    "\n",
    "for scene in os.listdir(data_root):\n",
    "    sl_path = os.path.join(data_root, scene)\n",
    "    save_path = os.path.join(save_root, scene)\n",
    "    os.makedirs(save_path, exist_ok=True)\n",
    "\n",
    "    gid2uid_all(sl_path, save_path)\n",
    "    construct_data_npy(save_path, save_path)\n",
    "    construct_data_ptgnn(save_path, save_path)"
   ]
  },
  {
   "cell_type": "code",
   "execution_count": null,
   "metadata": {},
   "outputs": [],
   "source": []
  }
 ],
 "metadata": {
  "kernelspec": {
   "display_name": "PRESL",
   "language": "python",
   "name": "python3"
  },
  "language_info": {
   "codemirror_mode": {
    "name": "ipython",
    "version": 3
   },
   "file_extension": ".py",
   "mimetype": "text/x-python",
   "name": "python",
   "nbconvert_exporter": "python",
   "pygments_lexer": "ipython3",
   "version": "3.7.13"
  },
  "orig_nbformat": 4
 },
 "nbformat": 4,
 "nbformat_minor": 2
}
