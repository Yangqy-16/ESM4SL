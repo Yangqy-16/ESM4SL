{
 "cells": [
  {
   "cell_type": "code",
   "execution_count": 1,
   "metadata": {},
   "outputs": [],
   "source": [
    "import numpy as np\n",
    "import pandas as pd\n",
    "\n",
    "root = '/home/qingyuyang/ESM4SL/data/hw3'"
   ]
  },
  {
   "cell_type": "code",
   "execution_count": 2,
   "metadata": {},
   "outputs": [],
   "source": [
    "raw_train = pd.read_csv(f'{root}/sl_train.csv')\n",
    "test = pd.read_csv(f'{root}/test.csv')"
   ]
  },
  {
   "cell_type": "code",
   "execution_count": 3,
   "metadata": {},
   "outputs": [],
   "source": [
    "from sklearn.model_selection import train_test_split\n",
    "\n",
    "train, val = train_test_split(raw_train, test_size=0.1, random_state=43, shuffle=True)\n",
    "\n",
    "train.to_csv(f'{root}/train.csv', index=False)\n",
    "val.to_csv(f'{root}/val.csv', index=False)"
   ]
  },
  {
   "cell_type": "code",
   "execution_count": 3,
   "metadata": {},
   "outputs": [
    {
     "data": {
      "text/plain": [
       "9820"
      ]
     },
     "execution_count": 3,
     "metadata": {},
     "output_type": "execute_result"
    }
   ],
   "source": [
    "genes = list(set(raw_train['geneA_ID']) | set(raw_train['geneB_ID']) | set(test['geneA_ID']) | set(test['geneB_ID']))\n",
    "len(genes)"
   ]
  },
  {
   "cell_type": "code",
   "execution_count": 4,
   "metadata": {},
   "outputs": [],
   "source": [
    "protein_info = pd.read_csv(f'{root}/protein_info.csv')\n",
    "\n",
    "def form_id_seq_list(gids: set[int], mapping: pd.DataFrame, max_len: int = 2000) -> list[tuple[int, str]]:\n",
    "    id_seq = []\n",
    "    for gid in gids:\n",
    "        seq = mapping[mapping['NCBI_gene_id'] == gid]['Sequence'].values[0]\n",
    "        if len(seq) > max_len:\n",
    "            seq = seq[:max_len]\n",
    "        id_seq.append((gid, seq))\n",
    "    return id_seq"
   ]
  },
  {
   "cell_type": "code",
   "execution_count": 5,
   "metadata": {},
   "outputs": [],
   "source": [
    "id_seq_list = form_id_seq_list(genes, protein_info)"
   ]
  },
  {
   "cell_type": "code",
   "execution_count": 6,
   "metadata": {},
   "outputs": [],
   "source": [
    "import pickle\n",
    "\n",
    "with open(f'{root}/all_id_seq.pkl', 'wb') as f:\n",
    "    pickle.dump(id_seq_list, f)"
   ]
  },
  {
   "cell_type": "markdown",
   "metadata": {},
   "source": [
    "Then, run esm2_gen.py"
   ]
  },
  {
   "cell_type": "code",
   "execution_count": null,
   "metadata": {},
   "outputs": [],
   "source": []
  }
 ],
 "metadata": {
  "kernelspec": {
   "display_name": "DTI_new",
   "language": "python",
   "name": "python3"
  },
  "language_info": {
   "codemirror_mode": {
    "name": "ipython",
    "version": 3
   },
   "file_extension": ".py",
   "mimetype": "text/x-python",
   "name": "python",
   "nbconvert_exporter": "python",
   "pygments_lexer": "ipython3",
   "version": "3.10.15"
  }
 },
 "nbformat": 4,
 "nbformat_minor": 2
}
